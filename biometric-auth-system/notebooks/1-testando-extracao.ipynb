{
 "cells": [
  {
   "cell_type": "markdown",
   "id": "64e12972",
   "metadata": {},
   "source": [
    "# Testando extração de características\n",
    "\n",
    "Notebook de exemplo para testar `extract_features` e `match`."
   ]
  },
  {
   "cell_type": "code",
   "execution_count": null,
   "id": "07acbebf",
   "metadata": {},
   "outputs": [],
   "source": []
  }
 ],
 "metadata": {
  "language_info": {
   "name": "python"
  }
 },
 "nbformat": 4,
 "nbformat_minor": 5
}
